{
 "cells": [
  {
   "cell_type": "code",
   "execution_count": null,
   "id": "3c4aa59a-1e80-4b1e-88c2-8416514c8b9f",
   "metadata": {},
   "outputs": [],
   "source": [
    "Q1.Explain with an example each when to use a for loop and a while loop.\n",
    "     For loop is generally used when iterations are known, or when we want output from given list. Also when we know how many times the loop\n",
    "     will excecute."
   ]
  },
  {
   "cell_type": "code",
   "execution_count": 1,
   "id": "4e63f3c3-2bf1-468e-8f30-fac73a685535",
   "metadata": {},
   "outputs": [
    {
     "name": "stdout",
     "output_type": "stream",
     "text": [
      "the odd numbers are: 1\n",
      "the even numbers are: 2\n",
      "the odd numbers are: 3\n",
      "the even numbers are: 4\n",
      "the odd numbers are: 5\n",
      "the even numbers are: 6\n"
     ]
    }
   ],
   "source": [
    "a=[1,2,3,4,5,6]\n",
    "odd_numbers=[]\n",
    "even_numbers=[]\n",
    "for i in a:\n",
    "    if i%2==0:\n",
    "        print(\"the even numbers are:\",i)\n",
    "        even_numbers.append(i)\n",
    "    else:\n",
    "        print(\"the odd numbers are:\",i)\n",
    "        odd_numbers.append(i)"
   ]
  },
  {
   "cell_type": "code",
   "execution_count": 2,
   "id": "1e5fb641-d414-49b2-b80e-bec08ff1d4fb",
   "metadata": {},
   "outputs": [
    {
     "data": {
      "text/plain": [
       "[1, 3, 5]"
      ]
     },
     "execution_count": 2,
     "metadata": {},
     "output_type": "execute_result"
    }
   ],
   "source": [
    "odd_numbers"
   ]
  },
  {
   "cell_type": "code",
   "execution_count": 3,
   "id": "393bf755-7a33-4e6a-8d4f-6377976fc263",
   "metadata": {},
   "outputs": [
    {
     "data": {
      "text/plain": [
       "[2, 4, 6]"
      ]
     },
     "execution_count": 3,
     "metadata": {},
     "output_type": "execute_result"
    }
   ],
   "source": [
    "even_numbers"
   ]
  },
  {
   "cell_type": "code",
   "execution_count": null,
   "id": "20752705-1772-4489-87c1-638a2fe83cdb",
   "metadata": {},
   "outputs": [],
   "source": [
    "While loop is used when we dont know how many times loop will excecute until it matches the condition."
   ]
  },
  {
   "cell_type": "code",
   "execution_count": 7,
   "id": "d2a76e61-853b-43da-af18-0db635b4e802",
   "metadata": {},
   "outputs": [
    {
     "name": "stdin",
     "output_type": "stream",
     "text": [
      "enter the number that you want to its table: 2\n"
     ]
    },
    {
     "name": "stdout",
     "output_type": "stream",
     "text": [
      "2 * 1 = 2\n",
      "2 * 2 = 4\n",
      "2 * 3 = 6\n",
      "2 * 4 = 8\n",
      "2 * 5 = 10\n",
      "2 * 6 = 12\n",
      "2 * 7 = 14\n",
      "2 * 8 = 16\n",
      "2 * 9 = 18\n",
      "2 * 10 = 20\n"
     ]
    },
    {
     "data": {
      "text/plain": [
       "20"
      ]
     },
     "execution_count": 7,
     "metadata": {},
     "output_type": "execute_result"
    }
   ],
   "source": [
    "#for ex\n",
    "n=int(input('enter the number that you want to its table:'))\n",
    "i=1\n",
    "while i<=10:\n",
    "    square = n*i\n",
    "    print(n,\"*\",i,\"=\",square)\n",
    "    i=i+1\n",
    "     \n",
    "square"
   ]
  },
  {
   "cell_type": "code",
   "execution_count": null,
   "id": "53c1c56f-fe17-4022-a41e-520b2cb68778",
   "metadata": {},
   "outputs": [],
   "source": [
    "Q2. Write a python program to print the sum and product of the first 10 natural numbers using for\n",
    "and while loop."
   ]
  },
  {
   "cell_type": "code",
   "execution_count": 14,
   "id": "9ef683f5-141f-42fb-badb-c519ae84eef7",
   "metadata": {},
   "outputs": [
    {
     "name": "stdout",
     "output_type": "stream",
     "text": [
      "1\n",
      "2\n",
      "3\n",
      "4\n",
      "5\n",
      "6\n",
      "7\n",
      "8\n",
      "9\n",
      "10\n"
     ]
    },
    {
     "data": {
      "text/plain": [
       "45"
      ]
     },
     "execution_count": 14,
     "metadata": {},
     "output_type": "execute_result"
    }
   ],
   "source": [
    "sum=0\n",
    "for i in range(0,10):\n",
    "    sum= sum+i\n",
    "    i=i+1\n",
    "    print(i)\n",
    "sum"
   ]
  },
  {
   "cell_type": "code",
   "execution_count": 37,
   "id": "35ac1540-1018-4b07-9d2e-059d7076de5e",
   "metadata": {},
   "outputs": [
    {
     "name": "stdout",
     "output_type": "stream",
     "text": [
      "1\n",
      "2\n",
      "3\n",
      "4\n",
      "5\n",
      "6\n",
      "7\n",
      "8\n",
      "9\n",
      "10\n"
     ]
    },
    {
     "data": {
      "text/plain": [
       "45"
      ]
     },
     "execution_count": 37,
     "metadata": {},
     "output_type": "execute_result"
    }
   ],
   "source": [
    "num=0\n",
    "sum_=0\n",
    "while num<10:\n",
    "    sum_=sum_+num\n",
    "    num=num+1\n",
    "    print(num)\n",
    "sum_"
   ]
  },
  {
   "cell_type": "code",
   "execution_count": 54,
   "id": "e25b8812-8769-4388-81a1-2a43c79b54f9",
   "metadata": {},
   "outputs": [
    {
     "name": "stdout",
     "output_type": "stream",
     "text": [
      "1\n",
      "2\n",
      "6\n",
      "24\n",
      "120\n",
      "720\n",
      "5040\n",
      "40320\n",
      "362880\n"
     ]
    },
    {
     "data": {
      "text/plain": [
       "362880"
      ]
     },
     "execution_count": 54,
     "metadata": {},
     "output_type": "execute_result"
    }
   ],
   "source": [
    "product=1\n",
    "for i in range(1,10):\n",
    "    product=product*i\n",
    "    print(product)\n",
    "    i=i+1\n",
    "product"
   ]
  },
  {
   "cell_type": "code",
   "execution_count": 61,
   "id": "50114aeb-ce87-470c-801b-5729590c92e6",
   "metadata": {},
   "outputs": [
    {
     "name": "stdout",
     "output_type": "stream",
     "text": [
      "1\n",
      "2\n",
      "6\n",
      "24\n",
      "120\n",
      "720\n",
      "5040\n",
      "40320\n",
      "362880\n"
     ]
    },
    {
     "data": {
      "text/plain": [
       "362880"
      ]
     },
     "execution_count": 61,
     "metadata": {},
     "output_type": "execute_result"
    }
   ],
   "source": [
    "i=1\n",
    "prdct=1\n",
    "while i<10:\n",
    "    prdct=prdct*i\n",
    "    print(prdct)\n",
    "    i=i+1\n",
    "prdct"
   ]
  },
  {
   "cell_type": "code",
   "execution_count": null,
   "id": "47fc1d4e-8fe1-49bd-8177-5b14e9693c21",
   "metadata": {},
   "outputs": [],
   "source": [
    "Q3. Create a python program to compute the electricity bill for a household.\n",
    "The per-unit charges in rupees are as follows: For the first 100 units, the user will be charged Rs. 4.5 per\n",
    "unit, for the next 100 units, the user will be charged Rs. 6 per unit, and for the next 100 units, the user will\n",
    "be charged Rs. 10 per unit, After 300 units and above the user will be charged Rs. 20 per unit.\n",
    "You are required to take the units of electricity consumed in a month from the user as input."
   ]
  },
  {
   "cell_type": "code",
   "execution_count": 72,
   "id": "59d5bdef-1f38-40b1-8230-56fb5ba0cb4b",
   "metadata": {},
   "outputs": [
    {
     "name": "stdin",
     "output_type": "stream",
     "text": [
      "units of electricity consumed in a month: 310\n"
     ]
    },
    {
     "name": "stdout",
     "output_type": "stream",
     "text": [
      "2250.0\n"
     ]
    }
   ],
   "source": [
    "unit =int(input(\"units of electricity consumed in a month:\"))\n",
    "if unit <=100:\n",
    "    bill=unit*4.5\n",
    "    print(bill)\n",
    "elif unit>100 and unit<=200:\n",
    "    bill=((unit-100)*6+(100*4.5))\n",
    "    print(bill)\n",
    "elif unit>201 and unit<=300:\n",
    "    bill=((unit-200)*10+(100*6)+(100*4.5))\n",
    "    print(bill)\n",
    "elif unit>=300:\n",
    "    bill=((unit-300)*20+(100*10)+(100*6)+(100*4.5))\n",
    "    print(bill)\n",
    "\n"
   ]
  },
  {
   "cell_type": "code",
   "execution_count": null,
   "id": "258b0445-5ec0-4d2e-971b-da77fe4f2e1d",
   "metadata": {},
   "outputs": [],
   "source": [
    "Q4. Create a list of numbers from 1 to 100. Use for loop and while loop to calculate the cube of each\n",
    "number and if the cube of that number is divisible by 4 or 5 then append that number in a list and print\n",
    "that list."
   ]
  },
  {
   "cell_type": "code",
   "execution_count": 99,
   "id": "e00b8407-0880-416e-b7db-7fdd2196e6ed",
   "metadata": {},
   "outputs": [
    {
     "name": "stdout",
     "output_type": "stream",
     "text": [
      "[1, 2, 3, 4, 5, 6, 7, 8, 9, 10, 11, 12, 13, 14, 15, 16, 17, 18, 19, 20, 21, 22, 23, 24, 25, 26, 27, 28, 29, 30, 31, 32, 33, 34, 35, 36, 37, 38, 39, 40, 41, 42, 43, 44, 45, 46, 47, 48, 49, 50, 51, 52, 53, 54, 55, 56, 57, 58, 59, 60, 61, 62, 63, 64, 65, 66, 67, 68, 69, 70, 71, 72, 73, 74, 75, 76, 77, 78, 79, 80, 81, 82, 83, 84, 85, 86, 87, 88, 89, 90, 91, 92, 93, 94, 95, 96, 97, 98, 99, 100]\n"
     ]
    }
   ],
   "source": [
    "l1=list(range(1,101))\n",
    "print(l1)"
   ]
  },
  {
   "cell_type": "code",
   "execution_count": 22,
   "id": "df4afadd-e9f9-46e5-b0c4-2e01be8ec962",
   "metadata": {},
   "outputs": [
    {
     "name": "stdout",
     "output_type": "stream",
     "text": [
      "[1, 2, 3, 4, 5, 6, 7, 8, 9, 10, 11, 12, 13, 14, 15, 16, 17, 18, 19, 20, 21, 22, 23, 24, 25, 26, 27, 28, 29, 30, 31, 32, 33, 34, 35, 36, 37, 38, 39, 40, 41, 42, 43, 44, 45, 46, 47, 48, 49, 50, 51, 52, 53, 54, 55, 56, 57, 58, 59, 60, 61, 62, 63, 64, 65, 66, 67, 68, 69, 70, 71, 72, 73, 74, 75, 76, 77, 78, 79, 80, 81, 82, 83, 84, 85, 86, 87, 88, 89, 90, 91, 92, 93, 94, 95, 96, 97, 98, 99, 100]\n",
      "1 cube: 1\n",
      "2 cube: 8\n",
      "3 cube: 27\n",
      "4 cube: 64\n",
      "5 cube: 125\n",
      "6 cube: 216\n",
      "7 cube: 343\n",
      "8 cube: 512\n",
      "9 cube: 729\n",
      "10 cube: 1000\n",
      "11 cube: 1331\n",
      "12 cube: 1728\n",
      "13 cube: 2197\n",
      "14 cube: 2744\n",
      "15 cube: 3375\n",
      "16 cube: 4096\n",
      "17 cube: 4913\n",
      "18 cube: 5832\n",
      "19 cube: 6859\n",
      "20 cube: 8000\n",
      "21 cube: 9261\n",
      "22 cube: 10648\n",
      "23 cube: 12167\n",
      "24 cube: 13824\n",
      "25 cube: 15625\n",
      "26 cube: 17576\n",
      "27 cube: 19683\n",
      "28 cube: 21952\n",
      "29 cube: 24389\n",
      "30 cube: 27000\n",
      "31 cube: 29791\n",
      "32 cube: 32768\n",
      "33 cube: 35937\n",
      "34 cube: 39304\n",
      "35 cube: 42875\n",
      "36 cube: 46656\n",
      "37 cube: 50653\n",
      "38 cube: 54872\n",
      "39 cube: 59319\n",
      "40 cube: 64000\n",
      "41 cube: 68921\n",
      "42 cube: 74088\n",
      "43 cube: 79507\n",
      "44 cube: 85184\n",
      "45 cube: 91125\n",
      "46 cube: 97336\n",
      "47 cube: 103823\n",
      "48 cube: 110592\n",
      "49 cube: 117649\n",
      "50 cube: 125000\n",
      "51 cube: 132651\n",
      "52 cube: 140608\n",
      "53 cube: 148877\n",
      "54 cube: 157464\n",
      "55 cube: 166375\n",
      "56 cube: 175616\n",
      "57 cube: 185193\n",
      "58 cube: 195112\n",
      "59 cube: 205379\n",
      "60 cube: 216000\n",
      "61 cube: 226981\n",
      "62 cube: 238328\n",
      "63 cube: 250047\n",
      "64 cube: 262144\n",
      "65 cube: 274625\n",
      "66 cube: 287496\n",
      "67 cube: 300763\n",
      "68 cube: 314432\n",
      "69 cube: 328509\n",
      "70 cube: 343000\n",
      "71 cube: 357911\n",
      "72 cube: 373248\n",
      "73 cube: 389017\n",
      "74 cube: 405224\n",
      "75 cube: 421875\n",
      "76 cube: 438976\n",
      "77 cube: 456533\n",
      "78 cube: 474552\n",
      "79 cube: 493039\n",
      "80 cube: 512000\n",
      "81 cube: 531441\n",
      "82 cube: 551368\n",
      "83 cube: 571787\n",
      "84 cube: 592704\n",
      "85 cube: 614125\n",
      "86 cube: 636056\n",
      "87 cube: 658503\n",
      "88 cube: 681472\n",
      "89 cube: 704969\n",
      "90 cube: 729000\n",
      "91 cube: 753571\n",
      "92 cube: 778688\n",
      "93 cube: 804357\n",
      "94 cube: 830584\n",
      "95 cube: 857375\n",
      "96 cube: 884736\n",
      "97 cube: 912673\n",
      "98 cube: 941192\n",
      "99 cube: 970299\n",
      "100 cube: 1000000\n"
     ]
    }
   ],
   "source": [
    "l1=list(range(1,101))\n",
    "print(l1)\n",
    "cube=1\n",
    "n=1\n",
    "for i in l1:\n",
    "    cube=i*i*i\n",
    "    print(i,\"cube:\",cube)\n",
    "    l2=[]\n",
    "    if cube/4 or cube/5:\n",
    "        l2.append(cube)"
   ]
  },
  {
   "cell_type": "code",
   "execution_count": null,
   "id": "4ce43837-7efd-4ad4-b8f0-fa11b72137cc",
   "metadata": {},
   "outputs": [],
   "source": [
    "l1"
   ]
  },
  {
   "cell_type": "code",
   "execution_count": 23,
   "id": "680b5403-5539-4c4d-a7d4-e7c63458aa0c",
   "metadata": {},
   "outputs": [],
   "source": [
    "Q .5. Write a program to filter count vowels in the below-given string.\n",
    "string = \"I want to become a data scientist\""
   ]
  },
  {
   "cell_type": "code",
   "execution_count": null,
   "id": "41bb7c18-2aaa-4979-8a87-9047bad45bb7",
   "metadata": {},
   "outputs": [],
   "source": [
    "string = input(\"enter the string:\")\n",
    "l2=[]\n",
    "for j in string:\n",
    "    if (j == 'a'or j == 'e'or j == 'i' or j == 'o' or  j == 'u'):\n",
    "        l2.append(j)\n",
    "return l2 "
   ]
  }
 ],
 "metadata": {
  "kernelspec": {
   "display_name": "Python 3 (ipykernel)",
   "language": "python",
   "name": "python3"
  },
  "language_info": {
   "codemirror_mode": {
    "name": "ipython",
    "version": 3
   },
   "file_extension": ".py",
   "mimetype": "text/x-python",
   "name": "python",
   "nbconvert_exporter": "python",
   "pygments_lexer": "ipython3",
   "version": "3.10.8"
  }
 },
 "nbformat": 4,
 "nbformat_minor": 5
}
